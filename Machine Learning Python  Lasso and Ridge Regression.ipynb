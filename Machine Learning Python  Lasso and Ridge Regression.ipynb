{
 "cells": [
  {
   "cell_type": "code",
   "execution_count": 1,
   "id": "225fadb7",
   "metadata": {},
   "outputs": [],
   "source": [
    "#import library\n",
    "import numpy as np\n",
    "import matplotlib.pyplot as plt\n",
    "import pandas as pd\n",
    "import seaborn as sns\n"
   ]
  },
  {
   "cell_type": "code",
   "execution_count": 4,
   "id": "bd03a735",
   "metadata": {},
   "outputs": [],
   "source": [
    "# Suppress warnings for clean notebook\n",
    "import warnings\n",
    "warnings.filterwarnings('ignore')"
   ]
  },
  {
   "cell_type": "code",
   "execution_count": 6,
   "id": "0541df93",
   "metadata": {},
   "outputs": [
    {
     "data": {
      "text/html": [
       "<div>\n",
       "<style scoped>\n",
       "    .dataframe tbody tr th:only-of-type {\n",
       "        vertical-align: middle;\n",
       "    }\n",
       "\n",
       "    .dataframe tbody tr th {\n",
       "        vertical-align: top;\n",
       "    }\n",
       "\n",
       "    .dataframe thead th {\n",
       "        text-align: right;\n",
       "    }\n",
       "</style>\n",
       "<table border=\"1\" class=\"dataframe\">\n",
       "  <thead>\n",
       "    <tr style=\"text-align: right;\">\n",
       "      <th></th>\n",
       "      <th>suburb</th>\n",
       "      <th>rooms</th>\n",
       "      <th>type</th>\n",
       "      <th>price</th>\n",
       "      <th>method</th>\n",
       "      <th>seller_g</th>\n",
       "      <th>date</th>\n",
       "      <th>distance</th>\n",
       "      <th>postcode</th>\n",
       "      <th>bedroom2</th>\n",
       "      <th>...</th>\n",
       "      <th>car</th>\n",
       "      <th>landsize</th>\n",
       "      <th>building_area</th>\n",
       "      <th>year_built</th>\n",
       "      <th>council_area</th>\n",
       "      <th>latitude</th>\n",
       "      <th>longitude</th>\n",
       "      <th>region_name</th>\n",
       "      <th>property_count</th>\n",
       "      <th>yr_qtr</th>\n",
       "    </tr>\n",
       "  </thead>\n",
       "  <tbody>\n",
       "    <tr>\n",
       "      <th>0</th>\n",
       "      <td>Abbotsford</td>\n",
       "      <td>2</td>\n",
       "      <td>h</td>\n",
       "      <td>NaN</td>\n",
       "      <td>SS</td>\n",
       "      <td>Jellis</td>\n",
       "      <td>2016-09-03</td>\n",
       "      <td>2.5</td>\n",
       "      <td>3067.0</td>\n",
       "      <td>2.0</td>\n",
       "      <td>...</td>\n",
       "      <td>1.0</td>\n",
       "      <td>126.0</td>\n",
       "      <td>NaN</td>\n",
       "      <td>NaN</td>\n",
       "      <td>Yarra City Council</td>\n",
       "      <td>-37.8014</td>\n",
       "      <td>144.9958</td>\n",
       "      <td>Northern Metropolitan</td>\n",
       "      <td>4019.0</td>\n",
       "      <td>2016.3</td>\n",
       "    </tr>\n",
       "    <tr>\n",
       "      <th>1</th>\n",
       "      <td>Abbotsford</td>\n",
       "      <td>2</td>\n",
       "      <td>h</td>\n",
       "      <td>1480000.0</td>\n",
       "      <td>S</td>\n",
       "      <td>Biggin</td>\n",
       "      <td>2016-12-03</td>\n",
       "      <td>2.5</td>\n",
       "      <td>3067.0</td>\n",
       "      <td>2.0</td>\n",
       "      <td>...</td>\n",
       "      <td>1.0</td>\n",
       "      <td>202.0</td>\n",
       "      <td>NaN</td>\n",
       "      <td>NaN</td>\n",
       "      <td>Yarra City Council</td>\n",
       "      <td>-37.7996</td>\n",
       "      <td>144.9984</td>\n",
       "      <td>Northern Metropolitan</td>\n",
       "      <td>4019.0</td>\n",
       "      <td>2016.4</td>\n",
       "    </tr>\n",
       "    <tr>\n",
       "      <th>2</th>\n",
       "      <td>Abbotsford</td>\n",
       "      <td>2</td>\n",
       "      <td>h</td>\n",
       "      <td>1035000.0</td>\n",
       "      <td>S</td>\n",
       "      <td>Biggin</td>\n",
       "      <td>2016-02-04</td>\n",
       "      <td>2.5</td>\n",
       "      <td>3067.0</td>\n",
       "      <td>2.0</td>\n",
       "      <td>...</td>\n",
       "      <td>0.0</td>\n",
       "      <td>156.0</td>\n",
       "      <td>79.0</td>\n",
       "      <td>1900.0</td>\n",
       "      <td>Yarra City Council</td>\n",
       "      <td>-37.8079</td>\n",
       "      <td>144.9934</td>\n",
       "      <td>Northern Metropolitan</td>\n",
       "      <td>4019.0</td>\n",
       "      <td>2016.1</td>\n",
       "    </tr>\n",
       "    <tr>\n",
       "      <th>3</th>\n",
       "      <td>Abbotsford</td>\n",
       "      <td>3</td>\n",
       "      <td>u</td>\n",
       "      <td>NaN</td>\n",
       "      <td>VB</td>\n",
       "      <td>Rounds</td>\n",
       "      <td>2016-02-04</td>\n",
       "      <td>2.5</td>\n",
       "      <td>3067.0</td>\n",
       "      <td>3.0</td>\n",
       "      <td>...</td>\n",
       "      <td>1.0</td>\n",
       "      <td>0.0</td>\n",
       "      <td>NaN</td>\n",
       "      <td>NaN</td>\n",
       "      <td>Yarra City Council</td>\n",
       "      <td>-37.8114</td>\n",
       "      <td>145.0116</td>\n",
       "      <td>Northern Metropolitan</td>\n",
       "      <td>4019.0</td>\n",
       "      <td>2016.1</td>\n",
       "    </tr>\n",
       "    <tr>\n",
       "      <th>4</th>\n",
       "      <td>Abbotsford</td>\n",
       "      <td>3</td>\n",
       "      <td>h</td>\n",
       "      <td>1465000.0</td>\n",
       "      <td>SP</td>\n",
       "      <td>Biggin</td>\n",
       "      <td>2017-03-04</td>\n",
       "      <td>2.5</td>\n",
       "      <td>3067.0</td>\n",
       "      <td>3.0</td>\n",
       "      <td>...</td>\n",
       "      <td>0.0</td>\n",
       "      <td>134.0</td>\n",
       "      <td>150.0</td>\n",
       "      <td>1900.0</td>\n",
       "      <td>Yarra City Council</td>\n",
       "      <td>-37.8093</td>\n",
       "      <td>144.9944</td>\n",
       "      <td>Northern Metropolitan</td>\n",
       "      <td>4019.0</td>\n",
       "      <td>2017.1</td>\n",
       "    </tr>\n",
       "  </tbody>\n",
       "</table>\n",
       "<p>5 rows × 21 columns</p>\n",
       "</div>"
      ],
      "text/plain": [
       "       suburb  rooms type      price method seller_g        date  distance  \\\n",
       "0  Abbotsford      2    h        NaN     SS   Jellis  2016-09-03       2.5   \n",
       "1  Abbotsford      2    h  1480000.0      S   Biggin  2016-12-03       2.5   \n",
       "2  Abbotsford      2    h  1035000.0      S   Biggin  2016-02-04       2.5   \n",
       "3  Abbotsford      3    u        NaN     VB   Rounds  2016-02-04       2.5   \n",
       "4  Abbotsford      3    h  1465000.0     SP   Biggin  2017-03-04       2.5   \n",
       "\n",
       "   postcode  bedroom2  ...  car  landsize  building_area  year_built  \\\n",
       "0    3067.0       2.0  ...  1.0     126.0            NaN         NaN   \n",
       "1    3067.0       2.0  ...  1.0     202.0            NaN         NaN   \n",
       "2    3067.0       2.0  ...  0.0     156.0           79.0      1900.0   \n",
       "3    3067.0       3.0  ...  1.0       0.0            NaN         NaN   \n",
       "4    3067.0       3.0  ...  0.0     134.0          150.0      1900.0   \n",
       "\n",
       "         council_area latitude  longitude            region_name  \\\n",
       "0  Yarra City Council -37.8014   144.9958  Northern Metropolitan   \n",
       "1  Yarra City Council -37.7996   144.9984  Northern Metropolitan   \n",
       "2  Yarra City Council -37.8079   144.9934  Northern Metropolitan   \n",
       "3  Yarra City Council -37.8114   145.0116  Northern Metropolitan   \n",
       "4  Yarra City Council -37.8093   144.9944  Northern Metropolitan   \n",
       "\n",
       "  property_count  yr_qtr  \n",
       "0         4019.0  2016.3  \n",
       "1         4019.0  2016.4  \n",
       "2         4019.0  2016.1  \n",
       "3         4019.0  2016.1  \n",
       "4         4019.0  2017.1  \n",
       "\n",
       "[5 rows x 21 columns]"
      ]
     },
     "execution_count": 6,
     "metadata": {},
     "output_type": "execute_result"
    }
   ],
   "source": [
    "# read dataset\n",
    "dataset = pd.read_csv('Melbourne_housing_FULL.csv')\n",
    "dataset.head()"
   ]
  },
  {
   "cell_type": "code",
   "execution_count": 7,
   "id": "0e3023f2",
   "metadata": {
    "collapsed": true
   },
   "outputs": [
    {
     "data": {
      "text/plain": [
       "suburb              351\n",
       "rooms                12\n",
       "type                  3\n",
       "price              2871\n",
       "method                9\n",
       "seller_g            388\n",
       "date                 78\n",
       "distance            215\n",
       "postcode            211\n",
       "bedroom2             15\n",
       "bathroom             11\n",
       "car                  15\n",
       "landsize           1684\n",
       "building_area       740\n",
       "year_built          160\n",
       "council_area         33\n",
       "latitude          13402\n",
       "longitude         14524\n",
       "region_name           8\n",
       "property_count      342\n",
       "yr_qtr                9\n",
       "dtype: int64"
      ]
     },
     "execution_count": 7,
     "metadata": {},
     "output_type": "execute_result"
    }
   ],
   "source": [
    "dataset.nunique()"
   ]
  },
  {
   "cell_type": "code",
   "execution_count": 9,
   "id": "b913dfc7",
   "metadata": {},
   "outputs": [
    {
     "data": {
      "text/plain": [
       "(34857, 21)"
      ]
     },
     "execution_count": 9,
     "metadata": {},
     "output_type": "execute_result"
    }
   ],
   "source": [
    "dataset.shape"
   ]
  },
  {
   "cell_type": "code",
   "execution_count": 10,
   "id": "6a1ff3f7",
   "metadata": {},
   "outputs": [
    {
     "data": {
      "text/plain": [
       "Index(['suburb', 'rooms', 'type', 'price', 'method', 'seller_g', 'date',\n",
       "       'distance', 'postcode', 'bedroom2', 'bathroom', 'car', 'landsize',\n",
       "       'building_area', 'year_built', 'council_area', 'latitude', 'longitude',\n",
       "       'region_name', 'property_count', 'yr_qtr'],\n",
       "      dtype='object')"
      ]
     },
     "execution_count": 10,
     "metadata": {},
     "output_type": "execute_result"
    }
   ],
   "source": [
    "dataset.columns"
   ]
  },
  {
   "cell_type": "code",
   "execution_count": 11,
   "id": "77f42bd6",
   "metadata": {},
   "outputs": [
    {
     "data": {
      "text/html": [
       "<div>\n",
       "<style scoped>\n",
       "    .dataframe tbody tr th:only-of-type {\n",
       "        vertical-align: middle;\n",
       "    }\n",
       "\n",
       "    .dataframe tbody tr th {\n",
       "        vertical-align: top;\n",
       "    }\n",
       "\n",
       "    .dataframe thead th {\n",
       "        text-align: right;\n",
       "    }\n",
       "</style>\n",
       "<table border=\"1\" class=\"dataframe\">\n",
       "  <thead>\n",
       "    <tr style=\"text-align: right;\">\n",
       "      <th></th>\n",
       "      <th>suburb</th>\n",
       "      <th>rooms</th>\n",
       "      <th>type</th>\n",
       "      <th>price</th>\n",
       "      <th>method</th>\n",
       "      <th>seller_g</th>\n",
       "      <th>distance</th>\n",
       "      <th>bedroom2</th>\n",
       "      <th>bathroom</th>\n",
       "      <th>car</th>\n",
       "      <th>landsize</th>\n",
       "      <th>building_area</th>\n",
       "      <th>council_area</th>\n",
       "      <th>property_count</th>\n",
       "      <th>yr_qtr</th>\n",
       "    </tr>\n",
       "  </thead>\n",
       "  <tbody>\n",
       "    <tr>\n",
       "      <th>0</th>\n",
       "      <td>Abbotsford</td>\n",
       "      <td>2</td>\n",
       "      <td>h</td>\n",
       "      <td>NaN</td>\n",
       "      <td>SS</td>\n",
       "      <td>Jellis</td>\n",
       "      <td>2.5</td>\n",
       "      <td>2.0</td>\n",
       "      <td>1.0</td>\n",
       "      <td>1.0</td>\n",
       "      <td>126.0</td>\n",
       "      <td>NaN</td>\n",
       "      <td>Yarra City Council</td>\n",
       "      <td>4019.0</td>\n",
       "      <td>2016.3</td>\n",
       "    </tr>\n",
       "    <tr>\n",
       "      <th>1</th>\n",
       "      <td>Abbotsford</td>\n",
       "      <td>2</td>\n",
       "      <td>h</td>\n",
       "      <td>1480000.0</td>\n",
       "      <td>S</td>\n",
       "      <td>Biggin</td>\n",
       "      <td>2.5</td>\n",
       "      <td>2.0</td>\n",
       "      <td>1.0</td>\n",
       "      <td>1.0</td>\n",
       "      <td>202.0</td>\n",
       "      <td>NaN</td>\n",
       "      <td>Yarra City Council</td>\n",
       "      <td>4019.0</td>\n",
       "      <td>2016.4</td>\n",
       "    </tr>\n",
       "    <tr>\n",
       "      <th>2</th>\n",
       "      <td>Abbotsford</td>\n",
       "      <td>2</td>\n",
       "      <td>h</td>\n",
       "      <td>1035000.0</td>\n",
       "      <td>S</td>\n",
       "      <td>Biggin</td>\n",
       "      <td>2.5</td>\n",
       "      <td>2.0</td>\n",
       "      <td>1.0</td>\n",
       "      <td>0.0</td>\n",
       "      <td>156.0</td>\n",
       "      <td>79.0</td>\n",
       "      <td>Yarra City Council</td>\n",
       "      <td>4019.0</td>\n",
       "      <td>2016.1</td>\n",
       "    </tr>\n",
       "    <tr>\n",
       "      <th>3</th>\n",
       "      <td>Abbotsford</td>\n",
       "      <td>3</td>\n",
       "      <td>u</td>\n",
       "      <td>NaN</td>\n",
       "      <td>VB</td>\n",
       "      <td>Rounds</td>\n",
       "      <td>2.5</td>\n",
       "      <td>3.0</td>\n",
       "      <td>2.0</td>\n",
       "      <td>1.0</td>\n",
       "      <td>0.0</td>\n",
       "      <td>NaN</td>\n",
       "      <td>Yarra City Council</td>\n",
       "      <td>4019.0</td>\n",
       "      <td>2016.1</td>\n",
       "    </tr>\n",
       "    <tr>\n",
       "      <th>4</th>\n",
       "      <td>Abbotsford</td>\n",
       "      <td>3</td>\n",
       "      <td>h</td>\n",
       "      <td>1465000.0</td>\n",
       "      <td>SP</td>\n",
       "      <td>Biggin</td>\n",
       "      <td>2.5</td>\n",
       "      <td>3.0</td>\n",
       "      <td>2.0</td>\n",
       "      <td>0.0</td>\n",
       "      <td>134.0</td>\n",
       "      <td>150.0</td>\n",
       "      <td>Yarra City Council</td>\n",
       "      <td>4019.0</td>\n",
       "      <td>2017.1</td>\n",
       "    </tr>\n",
       "  </tbody>\n",
       "</table>\n",
       "</div>"
      ],
      "text/plain": [
       "       suburb  rooms type      price method seller_g  distance  bedroom2  \\\n",
       "0  Abbotsford      2    h        NaN     SS   Jellis       2.5       2.0   \n",
       "1  Abbotsford      2    h  1480000.0      S   Biggin       2.5       2.0   \n",
       "2  Abbotsford      2    h  1035000.0      S   Biggin       2.5       2.0   \n",
       "3  Abbotsford      3    u        NaN     VB   Rounds       2.5       3.0   \n",
       "4  Abbotsford      3    h  1465000.0     SP   Biggin       2.5       3.0   \n",
       "\n",
       "   bathroom  car  landsize  building_area        council_area  property_count  \\\n",
       "0       1.0  1.0     126.0            NaN  Yarra City Council          4019.0   \n",
       "1       1.0  1.0     202.0            NaN  Yarra City Council          4019.0   \n",
       "2       1.0  0.0     156.0           79.0  Yarra City Council          4019.0   \n",
       "3       2.0  1.0       0.0            NaN  Yarra City Council          4019.0   \n",
       "4       2.0  0.0     134.0          150.0  Yarra City Council          4019.0   \n",
       "\n",
       "   yr_qtr  \n",
       "0  2016.3  \n",
       "1  2016.4  \n",
       "2  2016.1  \n",
       "3  2016.1  \n",
       "4  2017.1  "
      ]
     },
     "execution_count": 11,
     "metadata": {},
     "output_type": "execute_result"
    }
   ],
   "source": [
    "# decide the useful columns\n",
    "cols_to_use = ['suburb', 'rooms', 'type', 'price','method', 'seller_g', \n",
    "       'distance', 'bedroom2', 'bathroom', 'car', 'landsize',\n",
    "       'building_area', 'council_area', 'property_count', 'yr_qtr']\n",
    "dataset = dataset[cols_to_use]\n",
    "dataset.head()"
   ]
  },
  {
   "cell_type": "code",
   "execution_count": 12,
   "id": "c98f7263",
   "metadata": {},
   "outputs": [
    {
     "data": {
      "text/plain": [
       "(34857, 15)"
      ]
     },
     "execution_count": 12,
     "metadata": {},
     "output_type": "execute_result"
    }
   ],
   "source": [
    "dataset.shape"
   ]
  },
  {
   "cell_type": "code",
   "execution_count": 13,
   "id": "f5c81a74",
   "metadata": {},
   "outputs": [
    {
     "data": {
      "text/plain": [
       "suburb                0\n",
       "rooms                 0\n",
       "type                  0\n",
       "price              7610\n",
       "method                0\n",
       "seller_g              0\n",
       "distance              1\n",
       "bedroom2           8217\n",
       "bathroom           8226\n",
       "car                8728\n",
       "landsize          11810\n",
       "building_area     21115\n",
       "council_area          3\n",
       "property_count        3\n",
       "yr_qtr                0\n",
       "dtype: int64"
      ]
     },
     "execution_count": 13,
     "metadata": {},
     "output_type": "execute_result"
    }
   ],
   "source": [
    "dataset.isna().sum()"
   ]
  },
  {
   "cell_type": "code",
   "execution_count": 15,
   "id": "606ecdba",
   "metadata": {},
   "outputs": [
    {
     "data": {
      "text/plain": [
       "suburb                0\n",
       "rooms                 0\n",
       "type                  0\n",
       "price              7610\n",
       "method                0\n",
       "seller_g              0\n",
       "distance              0\n",
       "bedroom2              0\n",
       "bathroom              0\n",
       "car                   0\n",
       "landsize          11810\n",
       "building_area     21115\n",
       "council_area          3\n",
       "property_count        0\n",
       "yr_qtr                0\n",
       "dtype: int64"
      ]
     },
     "execution_count": 15,
     "metadata": {},
     "output_type": "execute_result"
    }
   ],
   "source": [
    "cols_to_fill_zero = ['property_count', 'distance','bedroom2','bathroom','car']\n",
    "dataset[cols_to_fill_zero] = dataset[cols_to_fill_zero].fillna(0)\n",
    "dataset.isna().sum()"
   ]
  },
  {
   "cell_type": "code",
   "execution_count": 16,
   "id": "70f304c1",
   "metadata": {},
   "outputs": [],
   "source": [
    "dataset['landsize'] = dataset['landsize'].fillna(dataset.landsize.mean())\n",
    "dataset['building_area'] = dataset['building_area'].fillna(dataset.building_area.mean())"
   ]
  },
  {
   "cell_type": "code",
   "execution_count": null,
   "id": "5a9f3de6",
   "metadata": {},
   "outputs": [],
   "source": [
    "dataset.isna()"
   ]
  }
 ],
 "metadata": {
  "kernelspec": {
   "display_name": "Python 3",
   "language": "python",
   "name": "python3"
  },
  "language_info": {
   "codemirror_mode": {
    "name": "ipython",
    "version": 3
   },
   "file_extension": ".py",
   "mimetype": "text/x-python",
   "name": "python",
   "nbconvert_exporter": "python",
   "pygments_lexer": "ipython3",
   "version": "3.8.8"
  }
 },
 "nbformat": 4,
 "nbformat_minor": 5
}
