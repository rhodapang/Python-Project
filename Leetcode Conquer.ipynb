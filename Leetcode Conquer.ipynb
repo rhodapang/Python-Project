{
 "cells": [
  {
   "cell_type": "markdown",
   "metadata": {},
   "source": [
    "# Leetcode "
   ]
  },
  {
   "cell_type": "markdown",
   "metadata": {},
   "source": [
    "## Array"
   ]
  },
  {
   "cell_type": "markdown",
   "metadata": {},
   "source": [
    "###  Two Sum\n",
    "Given an array of integers nums and an integer target, return indices of the two numbers such that they add up to target.\n",
    "\n",
    "You may assume that each input would have exactly one solution, and you may not use the same element twice.\n",
    "\n",
    "You can return the answer in any order.\n",
    "\n",
    "Example 1:\n",
    "\n",
    "Input: nums = [2,7,11,15], target = 9\n",
    "Output: [0,1]\n",
    "Explanation: Because nums[0] + nums[1] == 9, we return [0, 1]."
   ]
  },
  {
   "cell_type": "code",
   "execution_count": null,
   "metadata": {},
   "outputs": [],
   "source": [
    "class Solution(object):\n",
    "    def twoSum(self, nums, target):\n",
    "        \"\"\"\n",
    "        :type nums: List[int]\n",
    "        :type target: int\n",
    "        :rtype: List[int]\n",
    "        \"\"\"\n",
    "        for i in range(0,len(nums)):\n",
    "            for j in range(i+1,len(nums)):\n",
    "                if nums[i] + nums[j] == target:\n",
    "                    return [i,j]"
   ]
  },
  {
   "cell_type": "code",
   "execution_count": null,
   "metadata": {},
   "outputs": [],
   "source": [
    "class Solution:\n",
    "    def twoSum(self, nums:list[int], target:int)-> list[int]:\n",
    "        for i in range(len(nums)):\n",
    "            for j in range(i+1, len(nums)):\n",
    "                if nums[j] == target - nums[i]:\n",
    "                    return [i,j]\n",
    "                "
   ]
  },
  {
   "cell_type": "code",
   "execution_count": null,
   "metadata": {},
   "outputs": [],
   "source": [
    "class Solution:\n",
    "    def twoSum(self, nums: List[int], target: int):\n",
    "        hashmap = {}\n",
    "        for i in range(len(nums)):\n",
    "            hashmap[nums[i]] = i\n",
    "        for i in range(len(nums)):\n",
    "            complement = target - nums[i]\n",
    "            if complement in hashmap and hashmap[complement] != i:\n",
    "                return [i,hashmap[complement]]\n",
    "                "
   ]
  },
  {
   "cell_type": "code",
   "execution_count": null,
   "metadata": {},
   "outputs": [],
   "source": [
    "class Solution:\n",
    "    def twoSum(self, nums: List[int], target: int):\n",
    "        hashmap = {}\n",
    "        for i in range(len(nums)):\n",
    "            completment = target - nums[i]\n",
    "            if completment in hashmap[i]:\n",
    "                return[i, hashmap[completment]]\n",
    "            hashmap[nums[i]] = i \n",
    "        "
   ]
  },
  {
   "cell_type": "code",
   "execution_count": null,
   "metadata": {},
   "outputs": [],
   "source": [
    "class Solution:\n",
    "    def twoSum(self, nums: List[int], target: int):\n",
    "        preMax = {}\n",
    "        \n",
    "        for i,n in enumerate(nums):\n",
    "            diff = target -n \n",
    "            if diff in preMax:\n",
    "                return [preMax[diff],i]\n",
    "            preMax[n] = i "
   ]
  },
  {
   "cell_type": "markdown",
   "metadata": {},
   "source": [
    "### 121. Best Time to Buy and Sell Stock\n",
    "\n",
    "You are given an array prices where prices[i] is the price of a given stock on the ith day.\n",
    "\n",
    "You want to maximize your profit by choosing a single day to buy one stock and choosing a different day in the future to sell that stock.\n",
    "\n",
    "Return the maximum profit you can achieve from this transaction. If you cannot achieve any profit, return 0.\n",
    "\n",
    "Input: prices = [7,1,5,3,6,4]\n",
    "Output: 5\n",
    "Explanation: Buy on day 2 (price = 1) and sell on day 5 (price = 6), profit = 6-1 = 5.\n",
    "Note that buying on day 2 and selling on day 1 is not allowed because you must buy before you sell."
   ]
  },
  {
   "cell_type": "code",
   "execution_count": null,
   "metadata": {},
   "outputs": [],
   "source": [
    "class Solution(object):\n",
    "    def maxProfit(self, prices):\n",
    "        \"\"\"\n",
    "        :type prices: List[int]\n",
    "        :rtype: int\n",
    "        \"\"\"\n",
    "        "
   ]
  },
  {
   "cell_type": "code",
   "execution_count": null,
   "metadata": {},
   "outputs": [],
   "source": [
    "class Solution(object):\n",
    "    def maxProfit(self, prices):\n",
    "        \"\"\"\n",
    "        :type prices: List[int]\n",
    "        :rtype: int\n",
    "        \"\"\"\n",
    "        min_price = float('inf')\n",
    "        max_profit = 0\n",
    "        for i in range(len(prices)):\n",
    "            if prices[i] < min_price:\n",
    "                min_price = prices[i]\n",
    "            elif prices[i] - min_price > max_profit:\n",
    "                max_profit = prices[i] - min_price\n",
    "                \n",
    "        return max_profit   "
   ]
  },
  {
   "cell_type": "markdown",
   "metadata": {},
   "source": [
    "### 217. Contains Duplicate\n",
    "Given an integer array nums, return true if any value appears at least twice in the array, and return false if every element is distinct.\n"
   ]
  },
  {
   "cell_type": "code",
   "execution_count": null,
   "metadata": {},
   "outputs": [],
   "source": [
    "class Solution(object):\n",
    "    def containsDuplicate(self, nums):\n",
    "        \"\"\"\n",
    "        :type nums: List[int]\n",
    "        :rtype: bool\n",
    "        \"\"\"\n",
    "        nums.sort()\n",
    "        for i in range(len(nums)-1):\n",
    "            if nums[i] == nums[i+1]:\n",
    "                return True\n",
    "        return False"
   ]
  },
  {
   "cell_type": "code",
   "execution_count": null,
   "metadata": {},
   "outputs": [],
   "source": [
    "class Solution(object):\n",
    "    def containsDuplicate(self, nums):\n",
    "        if len(nums) != len(set(nums)):\n",
    "            return True\n",
    "        return False"
   ]
  },
  {
   "cell_type": "markdown",
   "metadata": {},
   "source": [
    "### 238. Product of Array Except Self\n",
    "Given an integer array nums, return an array answer such that answer[i] is equal to the product of all the elements of nums except nums[i].\n",
    "\n",
    "The product of any prefix or suffix of nums is guaranteed to fit in a 32-bit integer.\n",
    "\n",
    "You must write an algorithm that runs in O(n) time and without using the division operation.\n",
    "\n",
    "https://www.youtube.com/watch?v=bNvIQI2wAjk\n",
    " "
   ]
  },
  {
   "cell_type": "code",
   "execution_count": null,
   "metadata": {},
   "outputs": [],
   "source": [
    "class Solution:\n",
    "    def productExceptSelfd(self, nums:List[int]):\n",
    "        res = [1] * len(nums)\n",
    "        \n",
    "        prefix = 1\n",
    "        for i in range(len(nums)):\n",
    "            res[i] = prefix\n",
    "            prefix *= nums[i]\n",
    "        \n",
    "        postfix = 1\n",
    "        for i in range(len(nums)-1,-1,-1):\n",
    "            res[i] *= postfix\n",
    "            postfix *= nums[i]\n",
    "        return"
   ]
  }
 ],
 "metadata": {
  "kernelspec": {
   "display_name": "Python 3",
   "language": "python",
   "name": "python3"
  },
  "language_info": {
   "codemirror_mode": {
    "name": "ipython",
    "version": 3
   },
   "file_extension": ".py",
   "mimetype": "text/x-python",
   "name": "python",
   "nbconvert_exporter": "python",
   "pygments_lexer": "ipython3",
   "version": "3.7.3"
  },
  "toc": {
   "base_numbering": 1,
   "nav_menu": {},
   "number_sections": true,
   "sideBar": true,
   "skip_h1_title": false,
   "title_cell": "Table of Contents",
   "title_sidebar": "Contents",
   "toc_cell": false,
   "toc_position": {},
   "toc_section_display": true,
   "toc_window_display": false
  }
 },
 "nbformat": 4,
 "nbformat_minor": 4
}
