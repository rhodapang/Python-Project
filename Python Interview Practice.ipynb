{
 "cells": [
  {
   "cell_type": "markdown",
   "metadata": {},
   "source": [
    "Task\n",
    "Given an integer, , perform the following conditional actions:\n",
    "\n",
    "If  is odd, print Weird\n",
    "If  is even and in the inclusive range of  to , print Not Weird\n",
    "If  is even and in the inclusive range of  to , print Weird\n",
    "If  is even and greater than , print Not Weird\n",
    "Input Format\n",
    "\n",
    "A single line containing a positive integer, "
   ]
  },
  {
   "cell_type": "code",
   "execution_count": 1,
   "metadata": {},
   "outputs": [
    {
     "name": "stdout",
     "output_type": "stream",
     "text": [
      "20\n",
      "Weird\n"
     ]
    }
   ],
   "source": [
    "if __name__ == '__main__':\n",
    "    n = int(input().strip())\n",
    "\n",
    "def func(n):\n",
    "    if n%2 != 0:\n",
    "        print('Weird')\n",
    "    elif n%2 == 0 and n in range(2,6):\n",
    "        print('Not Weird')\n",
    "    elif n%2 == 0 and n in range(6,21):\n",
    "        print('Weird')\n",
    "    else:\n",
    "        print('Not Weird')\n",
    "\n",
    "func(n)"
   ]
  },
  {
   "cell_type": "code",
   "execution_count": null,
   "metadata": {},
   "outputs": [],
   "source": [
    "n = int(input().strip())\n",
    "check = {True: \"Not Weird\", False: \"Weird\"}\n",
    "\n",
    "print(check[\n",
    "        n%2==0 and (\n",
    "            n in range(2,6) or \n",
    "            n > 20)\n",
    "    ])"
   ]
  },
  {
   "cell_type": "code",
   "execution_count": 3,
   "metadata": {},
   "outputs": [
    {
     "name": "stdout",
     "output_type": "stream",
     "text": [
      "29\n",
      "Weird\n"
     ]
    }
   ],
   "source": [
    "n = int(input().strip())\n",
    "check = {True:\"Not Weird\", False:'Weird'}\n",
    "\n",
    "print(check[n%2 ==0 and (n in range(2,6) or n >20)])"
   ]
  },
  {
   "cell_type": "code",
   "execution_count": 9,
   "metadata": {},
   "outputs": [
    {
     "name": "stdout",
     "output_type": "stream",
     "text": [
      "30\n",
      "Not Weird\n"
     ]
    }
   ],
   "source": [
    "n = int(input().strip())\n",
    "\n",
    "if n % 2 == 0 and (n in range(2,6) or n>20):\n",
    "    print('Not Weird')\n",
    "else:\n",
    "    print('Weird')"
   ]
  },
  {
   "cell_type": "code",
   "execution_count": 10,
   "metadata": {},
   "outputs": [
    {
     "name": "stdout",
     "output_type": "stream",
     "text": [
      "4\n",
      "0\n",
      "1\n",
      "4\n",
      "9\n"
     ]
    }
   ],
   "source": [
    "if __name__ == '__main__':\n",
    "    n = int(input())\n",
    "    \n",
    "    print(*[num**2 for num in range(n)], sep='\\n')"
   ]
  },
  {
   "cell_type": "code",
   "execution_count": null,
   "metadata": {},
   "outputs": [],
   "source": [
    "[print(i**2) for i in range(n)]"
   ]
  },
  {
   "cell_type": "code",
   "execution_count": 11,
   "metadata": {},
   "outputs": [
    {
     "name": "stdout",
     "output_type": "stream",
     "text": [
      "5\n",
      "0\n",
      "1\n",
      "4\n",
      "9\n",
      "16\n"
     ]
    }
   ],
   "source": [
    "if __name__ == '__main__':\n",
    "    n = int(input())\n",
    "    \n",
    "    [print(i**2) for i in range(n)]"
   ]
  },
  {
   "cell_type": "markdown",
   "metadata": {},
   "source": [
    "The included code stub will read an integer, , from STDIN.\n",
    "\n",
    "Without using any string methods, try to print the following:\n",
    "\n",
    "\n",
    "Note that \"\" represents the consecutive values in between.\n",
    "\n",
    "Example\n",
    "\n",
    "Print the string .\n",
    "\n",
    "Input Format\n",
    "\n",
    "The first line contains an integer .\n",
    "\n",
    "Constraints\n",
    "\n",
    "\n",
    "Output Format\n",
    "\n",
    "Print the list of integers from  through  as a string, without spaces."
   ]
  },
  {
   "cell_type": "code",
   "execution_count": null,
   "metadata": {},
   "outputs": [],
   "source": [
    "if __name__ == '__main__':\n",
    "    n = int(input())\n",
    "    print(*range(1,n+1),sep='')"
   ]
  },
  {
   "cell_type": "markdown",
   "metadata": {},
   "source": [
    "Task\n",
    "The students of District College have subscriptions to English and French newspapers. Some students have subscribed only to English, some have subscribed only to French, and some have subscribed to both newspapers.\n",
    "\n",
    "You are given two sets of student roll numbers. One set has subscribed to the English newspaper, one set has subscribed to the French newspaper. Your task is to find the total number of students who have subscribed to both newspapers.\n",
    "\n",
    "Input Format\n",
    "\n",
    "The first line contains , the number of students who have subscribed to the English newspaper.\n",
    "The second line contains  space separated roll numbers of those students.\n",
    "The third line contains , the number of students who have subscribed to the French newspaper.\n",
    "The fourth line contains  space separated roll numbers of those students.\n",
    "\n",
    "Constraints\n",
    "\n",
    "\n",
    "Output Format\n",
    "\n",
    "Output the total number of students who have subscriptions to both English and French newspapers.\n",
    "\n",
    "Sample Input\n",
    "\n",
    "9\n",
    "1 2 3 4 5 6 7 8 9\n",
    "9\n",
    "10 1 2 3 11 21 55 6 8\n",
    "Sample Output\n",
    "\n",
    "5\n",
    "Explanation\n",
    "\n",
    "The roll numbers of students who have both subscriptions:\n",
    " and .\n",
    "Hence, the total is  students.\n",
    "\n",
    "Language\n",
    "Python 3\n",
    "\n",
    "More\n",
    "12345\n"
   ]
  },
  {
   "cell_type": "code",
   "execution_count": null,
   "metadata": {},
   "outputs": [],
   "source": [
    "_, a = input(), set(input().split())\n",
    "_, b = input(), set(input().split())\n",
    "\n",
    "print(len(a.intersection(b)))\n"
   ]
  },
  {
   "cell_type": "markdown",
   "metadata": {},
   "source": [
    "Let's learn about list comprehensions! You are given three integers  and  representing the dimensions of a cuboid along with an integer . Print a list of all possible coordinates given by  on a 3D grid where the sum of  is not equal to . Here, . Please use list comprehensions rather than multiple loops, as a learning exercise.\n",
    "\n",
    "Example\n",
    "\n",
    "\n",
    "\n",
    "\n",
    "All permutations of  are:\n",
    ".\n",
    "\n",
    "Print an array of the elements that do not sum to .\n",
    "\n",
    "\n",
    "Input Format\n",
    "\n",
    "Four integers  and , each on a separate line.\n",
    "\n",
    "Constraints\n",
    "\n",
    "Print the list in lexicographic increasing order.\n",
    "\n"
   ]
  },
  {
   "cell_type": "code",
   "execution_count": 2,
   "metadata": {},
   "outputs": [
    {
     "name": "stdout",
     "output_type": "stream",
     "text": [
      "1\n",
      "2\n",
      "2\n",
      "3\n",
      "[[0, 0, 0], [0, 0, 1], [0, 0, 2], [0, 1, 0], [0, 1, 1], [0, 2, 0], [0, 2, 2], [1, 0, 0], [1, 0, 1], [1, 1, 0], [1, 1, 2], [1, 2, 1], [1, 2, 2]]\n"
     ]
    }
   ],
   "source": [
    "x, y, z, n = int(input()), int(input()), int(input()), int(input())\n",
    "print ([[a,b,c] for a in range(0,x+1) for b in range(0,y+1) for c in range(0,z+1) if a + b + c != n ])"
   ]
  },
  {
   "cell_type": "markdown",
   "metadata": {},
   "source": [
    "# SQL"
   ]
  },
  {
   "cell_type": "markdown",
   "metadata": {},
   "source": [
    "Write a query that calculates the difference between the highest salaries found in the marketing and engineering departments. Output just the absolute difference in salaries."
   ]
  },
  {
   "cell_type": "markdown",
   "metadata": {},
   "source": [
    "select abs(max(salary) filter (where department = 'marketing') - max(salary) filter (where department = 'engineering')) \n",
    "from db_employee\n",
    "join db_dept d on department_id = d.id"
   ]
  },
  {
   "cell_type": "markdown",
   "metadata": {},
   "source": [
    "WITH max_table AS(\n",
    "SELECT department, max(salary) as max_salary FROM db_employee\n",
    "JOIN db_dept\n",
    "ON db_employee.department_id = db_dept.id\n",
    "GROUP BY department\n",
    "HAVING department = 'engineering' OR department = 'marketing')\n",
    "\n",
    "SELECT ABS((SELECT max_salary FROM max_table WHERE department = 'engineering') -(SELECT max_salary FROM max_table WHERE department = 'marketing')) AS salary_difference;"
   ]
  },
  {
   "cell_type": "markdown",
   "metadata": {},
   "source": [
    "What is the overall friend acceptance rate by date? Your output should have the rate of acceptances by the date the request was sent. Order by the earliest date to latest.\n",
    "\n",
    "Assume that each friend request starts by a user sending (i.e., user_id_sender) a friend request to another user (i.e., user_id_receiver) that's logged in the table with action = 'sent'. If the request is accepted, the table logs action = 'accepted'. If the request is not accepted, no record of action = 'accepted' is logged."
   ]
  },
  {
   "cell_type": "code",
   "execution_count": null,
   "metadata": {},
   "outputs": [],
   "source": [
    "WITH accepted AS (\n",
    "    select s.date, count(*) accept_count\n",
    "    from fb_friend_requests s INNER JOIN fb_friend_requests a \n",
    "    ON s.user_id_sender = a.user_id_sender AND s.user_id_receiver = a.user_id_receiver\n",
    "    AND s.action = 'sent' AND a.action = 'accepted'\n",
    "    GROUP BY 1\n",
    "), \n",
    "\n",
    "sent AS (\n",
    "    SELECT date, count(*) sent_count\n",
    "    FROM fb_friend_requests\n",
    "    WHERE action = 'sent'\n",
    "    GROUP BY date\n",
    ")\n",
    "\n",
    "SELECT s.date , a.accept_count:: float / s.sent_count as rate\n",
    "FROM sent s INNER JOIN accepted a ON s.date = a.date"
   ]
  },
  {
   "cell_type": "code",
   "execution_count": null,
   "metadata": {},
   "outputs": [],
   "source": [
    "with open('Capital.txt','r') as readFile:\n",
    "    for line in readFile:\n",
    "        if line.startswith('Answer') is True:\n",
    "            with opene('Answer.txt','a') as appendFile:\n",
    "                appendFile.write(line)"
   ]
  },
  {
   "cell_type": "markdown",
   "metadata": {},
   "source": [
    "# Python "
   ]
  },
  {
   "cell_type": "markdown",
   "metadata": {},
   "source": [
    "Classify Business Type\n",
    "Classify each business as either a restaurant, cafe, school, or other. A restaurant should have the word 'restaurant' in the business name. For cafes, either 'cafe', 'café', or 'coffee' can be in the business name. 'School' should be in the business name for schools. All other businesses should be classified as 'other'. Output the business name and the calculated classification."
   ]
  },
  {
   "cell_type": "code",
   "execution_count": null,
   "metadata": {},
   "outputs": [],
   "source": [
    "# Import your libraries\n",
    "import pandas as pd\n",
    "\n",
    "# Start writing code\n",
    "sf_restaurant_health_violations.head()\n",
    "business_type = []\n",
    "for name in sf_restaurant_health_violations['business_name']:\n",
    "    if 'restaurant' in [word.lower() for word in name.split()] or 'restaurante' in [word.lower() for word in name.split()]:\n",
    "        business_type.append( 'restaurant')\n",
    "    elif 'cafe' in [word.lower() for word in name.split()] or 'café'in  [word.lower() for word in name.split()] or 'coffee' in [word.lower() for word in name.split()]:\n",
    "        business_type.append('cafe') \n",
    "    elif 'school' in [word.lower() for word in name.split()] or 'schools' in [word.lower() for word in name.split()]\t:\n",
    "        business_type.append('school') \n",
    "    else: \n",
    "        business_type.append('other')\n",
    "\n",
    "sf_restaurant_health_violations['business_type'] = business_type\n",
    "sf_restaurant_health_violations.columns\n",
    "sf_restaurant_health_violations[['business_name','business_type']]\n"
   ]
  },
  {
   "cell_type": "code",
   "execution_count": null,
   "metadata": {},
   "outputs": [],
   "source": [
    "sf_restaurant_health_violations.head()\n",
    "business_type = []\n",
    "for name in sf_restaurant_health_violations['business_name']:\n",
    "    if 'restaurant' in name:\n",
    "        business_type.append( 'restaurant')\n",
    "    elif 'cafe' in name or 'café' in name or 'coffee' in name:\n",
    "        business_type.append('cafe') \n",
    "    elif 'school' in name or 'schools' in name:\n",
    "        business_type.append('school') \n",
    "    else: \n",
    "        business_type.append('other')\n",
    "\n",
    "\n",
    "sf_restaurant_health_violations['business_type'] = business_type\n",
    "sf_restaurant_health_violations.columns\n",
    "sf_restaurant_health_violations[['business_name','business_type']]"
   ]
  },
  {
   "cell_type": "code",
   "execution_count": null,
   "metadata": {},
   "outputs": [],
   "source": []
  },
  {
   "cell_type": "code",
   "execution_count": null,
   "metadata": {},
   "outputs": [],
   "source": [
    "sf_restaurant_health_violations.head()\n",
    "\n",
    "business_type = []\n",
    "for name in sf_restaurant_health_violations['business_name']:\n",
    "    if 'restaurant' in name.lower():\n",
    "        business_type.append( 'restaurant')\n",
    "    elif 'cafe' in name.lower() or 'café' in name or 'coffee' in name.lower():\n",
    "        business_type.append('cafe') \n",
    "    elif 'school' in name.lower() or 'schools' in name.lower():\n",
    "        business_type.append('school') \n",
    "    else: \n",
    "        business_type.append('other')\n",
    "\n",
    "business_type"
   ]
  },
  {
   "cell_type": "markdown",
   "metadata": {},
   "source": [
    "# SQL"
   ]
  },
  {
   "cell_type": "markdown",
   "metadata": {},
   "source": [
    "Finding User Purchases\n",
    "Write a query that'll identify returning active users. A returning active user is a user that has made a second purc hase within 7 days of any other of their purchases. Output a list of user_ids of these returning active users.\n",
    "Table: amazon_transactions\n",
    "amazon_transactions\n",
    "idint\n",
    "user_idint\n",
    "itemvarchar\n",
    "created_atdatetime\n",
    "revenueint\n"
   ]
  },
  {
   "cell_type": "code",
   "execution_count": null,
   "metadata": {},
   "outputs": [],
   "source": [
    "SELECT DISTINCT(a1.user_id)\n",
    "FROM amazon_transactions a1\n",
    "JOIN amazon_transactions a2 ON a1.user_id=a2.user_id\n",
    "AND a1.id <> a2.id\n",
    "AND (a2.created_at- a1.created_at between 0 and 7)\n",
    "ORDER BY a1.user_id"
   ]
  },
  {
   "cell_type": "code",
   "execution_count": null,
   "metadata": {},
   "outputs": [],
   "source": [
    "SELECT DISTINCT(a1.user_id)\n",
    "FROM amazon_transactions a1\n",
    "JOIN amazon_transactions a2 ON a1.user_id=a2.user_id\n",
    "AND a1.id <> a2.id\n",
    "AND a2.created_at::date-a1.created_at::date BETWEEN 0 AND 7\n",
    "ORDER BY a1.user_id\n",
    "\n",
    "select distinct a.user_id from amazon_transactions a join amazon_transactions b \n",
    "on a.user_id = b.user_id WHERE a.id != b.id AND a.created_at <= b.created_at \n",
    "AND DATEDIFF(b.created_at, a.created_at) <=7"
   ]
  },
  {
   "cell_type": "code",
   "execution_count": null,
   "metadata": {},
   "outputs": [],
   "source": [
    "with time_between_purchases as (\n",
    "select user_id, created_at - lag(created_at) over (Partition by user_id order by created_at ASC) as time_from_last_purchase\n",
    "from amazon_transactions \n",
    "order by user_id, created_at ASC\n",
    ")\n",
    "select distinct user_id \n",
    "from time_between_purchases\n",
    "where time_from_last_purchase <= 7\n"
   ]
  },
  {
   "cell_type": "code",
   "execution_count": null,
   "metadata": {},
   "outputs": [],
   "source": [
    "with shifted_tabel as (\n",
    "    select user_id,\n",
    "        created_at as today,\n",
    "        lag(created_at,1) over (\n",
    "            partition by user_id\n",
    "            order by created_at\n",
    "        ) as day_before\n",
    "    from amazon_transactions\n",
    ")\n",
    "select user_id, diff from (\n",
    "    select user_id, min(today-day_before) as diff from shifted_tabel\n",
    "    group by user_id\n",
    ") as diffs\n",
    "where diff <= 7"
   ]
  },
  {
   "cell_type": "markdown",
   "metadata": {},
   "source": [
    "Customer Revenue In March\n",
    "Calculate the total revenue from each customer in March 2019. Include only customers who were active in March 2019. \n",
    "\n",
    "Output the revenue along with the customer id and sort the results based on the revenue in descending order."
   ]
  },
  {
   "cell_type": "code",
   "execution_count": null,
   "metadata": {},
   "outputs": [],
   "source": [
    "SELECT cust_id,\n",
    "       SUM(total_order_cost) AS revenue\n",
    "FROM orders\n",
    "WHERE EXTRACT('MONTH'\n",
    "              FROM order_date :: TIMESTAMP) = 3\n",
    "      AND\n",
    "      EXTRACT('YEAR'\n",
    "              FROM order_date :: TIMESTAMP) = 2019\n",
    "GROUP BY cust_id\n",
    "ORDER BY revenue DESC"
   ]
  },
  {
   "cell_type": "markdown",
   "metadata": {},
   "source": [
    "Highest Cost Orders\n",
    "Find the customer with the highest daily total order cost between 2019-02-01 to 2019-05-01. If customer had more than one order on a certain day, sum the order costs on daily basis. Output their first name, total cost of their items, and the date.\n",
    " \n",
    " For simplicity, you can assume that every first name in the dataset is unique.\n"
   ]
  },
  {
   "cell_type": "code",
   "execution_count": null,
   "metadata": {},
   "outputs": [],
   "source": [
    "select first_name, temp.total_order_cost, order_date\n",
    "from customers join \n",
    "(select order_date, cust_id, sum(total_order_cost)\n",
    "from orders\n",
    "where order_date between '2019-02-01' and '2019-05-01'\n",
    "group by order_date,cust_id\n",
    "order by sum(total_order_cost) desc\n",
    "limit 1) temp\n",
    "on customers.id = temp.cust_id\n",
    "\n"
   ]
  }
 ],
 "metadata": {
  "kernelspec": {
   "display_name": "Python 3",
   "language": "python",
   "name": "python3"
  },
  "language_info": {
   "codemirror_mode": {
    "name": "ipython",
    "version": 3
   },
   "file_extension": ".py",
   "mimetype": "text/x-python",
   "name": "python",
   "nbconvert_exporter": "python",
   "pygments_lexer": "ipython3",
   "version": "3.7.3"
  },
  "toc": {
   "base_numbering": 1,
   "nav_menu": {},
   "number_sections": true,
   "sideBar": true,
   "skip_h1_title": false,
   "title_cell": "Table of Contents",
   "title_sidebar": "Contents",
   "toc_cell": false,
   "toc_position": {},
   "toc_section_display": true,
   "toc_window_display": false
  }
 },
 "nbformat": 4,
 "nbformat_minor": 4
}
