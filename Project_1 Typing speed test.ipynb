{
 "cells": [
  {
   "cell_type": "code",
   "execution_count": 6,
   "id": "3734062d",
   "metadata": {},
   "outputs": [],
   "source": [
    "import curses\n",
    "from curses import wrapper"
   ]
  },
  {
   "cell_type": "code",
   "execution_count": null,
   "id": "d3249b53",
   "metadata": {},
   "outputs": [],
   "source": [
    "def main(stdscr):\n",
    "    stdscr.clear()\n",
    "    stdscr.addstr(\"Welcome to the Speed Typing Test!\")\n",
    "    stdscr.addstr(\"\\nWeclome to the Speed Typing Test!\")\n",
    "    stdscr.refresh()\n",
    "\n",
    "def main(stdscr):\n",
    "    curses.init_pair(1,curse.COLOR_GREEN, curse.COLOR_BLACK)\n",
    "    curses.init_pair(2,curse.COLOR_RED, curse.COLOR_BLACK)\n",
    "    curses.init_pair(3,curse.COLOR_WHITE, curse.COLOR_BLACK)\n",
    "    \n",
    "    key = stdscr.getkey()\n",
    "    print(key)\n",
    "    \n",
    "wrapper(main)"
   ]
  },
  {
   "cell_type": "code",
   "execution_count": null,
   "id": "82847489",
   "metadata": {},
   "outputs": [],
   "source": []
  }
 ],
 "metadata": {
  "kernelspec": {
   "display_name": "Python 3",
   "language": "python",
   "name": "python3"
  },
  "language_info": {
   "codemirror_mode": {
    "name": "ipython",
    "version": 3
   },
   "file_extension": ".py",
   "mimetype": "text/x-python",
   "name": "python",
   "nbconvert_exporter": "python",
   "pygments_lexer": "ipython3",
   "version": "3.8.8"
  }
 },
 "nbformat": 4,
 "nbformat_minor": 5
}
