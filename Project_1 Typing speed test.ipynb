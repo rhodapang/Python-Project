{
 "cells": [
  {
   "cell_type": "code",
   "execution_count": 6,
   "id": "3734062d",
   "metadata": {},
   "outputs": [],
   "source": [
    "import curses\n",
    "from curses import wrapper"
   ]
  },
  {
   "cell_type": "code",
   "execution_count": null,
   "id": "d3249b53",
   "metadata": {},
   "outputs": [],
   "source": [
    "def main(stdscr):\n",
    "    stdscr.clear()\n",
    "    stdscr.addstr(\"Hello World!\")\n",
    "    stdscr.refresh()\n",
    "    stdscr.getkey()\n",
    "\n",
    "wrapper(main)"
   ]
  },
  {
   "cell_type": "code",
   "execution_count": null,
   "id": "82847489",
   "metadata": {},
   "outputs": [],
   "source": []
  }
 ],
 "metadata": {
  "kernelspec": {
   "display_name": "Python 3",
   "language": "python",
   "name": "python3"
  },
  "language_info": {
   "codemirror_mode": {
    "name": "ipython",
    "version": 3
   },
   "file_extension": ".py",
   "mimetype": "text/x-python",
   "name": "python",
   "nbconvert_exporter": "python",
   "pygments_lexer": "ipython3",
   "version": "3.8.8"
  }
 },
 "nbformat": 4,
 "nbformat_minor": 5
}
