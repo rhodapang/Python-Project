{
 "cells": [
  {
   "cell_type": "markdown",
   "metadata": {},
   "source": [
    "## Interval"
   ]
  },
  {
   "cell_type": "markdown",
   "metadata": {},
   "source": [
    "### 57. Insert Interval\n",
    "\n",
    "You are given an array of non-overlapping intervals intervals where intervals[i] = [starti, endi] represent the start and the end of the ith interval and intervals is sorted in ascending order by starti. You are also given an interval newInterval = [start, end] that represents the start and end of another interval.\n",
    "\n",
    "Insert newInterval into intervals such that intervals is still sorted in ascending order by starti and intervals still does not have any overlapping intervals (merge overlapping intervals if necessary).\n",
    "\n",
    "Return intervals after the insertion.\n",
    "\n",
    "Example 1:\n",
    "\n",
    "Input: intervals = [[1,3],[6,9]], newInterval = [2,5]\n",
    "Output: [[1,5],[6,9]]\n",
    "Example 2:\n",
    "\n",
    "Input: intervals = [[1,2],[3,5],[6,7],[8,10],[12,16]], newInterval = [4,8]\n",
    "Output: [[1,2],[3,10],[12,16]]\n",
    "Explanation: Because the new interval [4,8] overlaps with [3,5],[6,7],[8,10].\n",
    "\n",
    "Constraints:\n",
    "\n",
    "0 <= intervals.length <= 104\n",
    "intervals[i].length == 2\n",
    "0 <= starti <= endi <= 105\n",
    "intervals is sorted by starti in ascending order.\n",
    "newInterval.length == 2\n",
    "0 <= start <= end <= 105"
   ]
  },
  {
   "cell_type": "code",
   "execution_count": 6,
   "metadata": {},
   "outputs": [
    {
     "name": "stdout",
     "output_type": "stream",
     "text": [
      "[[1, 2], [3, 5], [6, 7], [8, 10], [12, 16]]\n"
     ]
    }
   ],
   "source": [
    "intervals = [[1,2],[3,5],[6,7],[8,10],[12,16]]\n",
    "print(intervals[0:])"
   ]
  },
  {
   "cell_type": "code",
   "execution_count": 5,
   "metadata": {},
   "outputs": [
    {
     "name": "stdout",
     "output_type": "stream",
     "text": [
      "1\n",
      "3\n",
      "6\n",
      "8\n",
      "12\n"
     ]
    }
   ],
   "source": [
    "intervals = [[1,2],[3,5],[6,7],[8,10],[12,16]]\n",
    "\n",
    "for i in range(len(intervals)):\n",
    "    print(intervals[i][0])"
   ]
  },
  {
   "cell_type": "code",
   "execution_count": null,
   "metadata": {},
   "outputs": [],
   "source": [
    "class Solution(object):\n",
    "    def insert(self, intervals, newInterval):\n",
    "        \"\"\"\n",
    "        :type intervals: List[List[int]]\n",
    "        :type newInterval: List[int]\n",
    "        :rtype: List[List[int]]\n",
    "        \"\"\"\n",
    "        res = []\n",
    "        for i in range(len(intervals)):\n",
    "            if newInterval[1] < intervals[i][0]:\n",
    "                res.append(newInterval)\n",
    "                return res+intervals[i:]\n",
    "            elif newInterval[0]>intervals[i][1]:\n",
    "                res.append(intervals[i])\n",
    "            else:\n",
    "                newInterval = [min(newInterval[0], intervals[i][0]), max(newInterval[1], intervals[i][1])]\n",
    "        \n",
    "        res.append(newInterval)\n",
    "        \n",
    "        return res\n",
    "                \n",
    "                \n"
   ]
  },
  {
   "cell_type": "code",
   "execution_count": null,
   "metadata": {},
   "outputs": [],
   "source": [
    "class Solution:\n",
    "    def insert(self, intervals: 'List[Interval]', newInterval: 'Interval') -> 'List[Interval]':\n",
    "        # init data\n",
    "        new_start, new_end = newInterval\n",
    "        idx, n = 0, len(intervals)\n",
    "        output = []\n",
    "        \n",
    "        # add all intervals starting before newInterval\n",
    "        while idx < n and new_start > intervals[idx][0]:\n",
    "            output.append(intervals[idx])\n",
    "            idx += 1\n",
    "            \n",
    "        # add newInterval\n",
    "        # if there is no overlap, just add the interval\n",
    "        if not output or output[-1][1] < new_start:\n",
    "            output.append(newInterval)\n",
    "        # if there is an overlap, merge with the last interval\n",
    "        else:\n",
    "            output[-1][1] = max(output[-1][1], new_end)\n",
    "        \n",
    "        # add next intervals, merge with newInterval if needed\n",
    "        while idx < n:\n",
    "            interval = intervals[idx]\n",
    "            start, end = interval\n",
    "            idx += 1\n",
    "            # if there is no overlap, just add an interval\n",
    "            if output[-1][1] < start:\n",
    "                output.append(interval)\n",
    "            # if there is an overlap, merge with the last interval\n",
    "            else:\n",
    "                output[-1][1] = max(output[-1][1], end)\n",
    "        return output"
   ]
  },
  {
   "cell_type": "markdown",
   "metadata": {},
   "source": [
    "### 56. Merge Intervals\n",
    "\n",
    "Given an array of intervals where intervals[i] = [starti, endi], merge all overlapping intervals, and return an array of the non-overlapping intervals that cover all the intervals in the input.\n",
    "\n",
    "Example 1:\n",
    "\n",
    "Input: intervals = [[1,3],[2,6],[8,10],[15,18]]\n",
    "Output: [[1,6],[8,10],[15,18]]\n",
    "Explanation: Since intervals [1,3] and [2,6] overlaps, merge them into [1,6].\n",
    "Example 2:\n",
    "\n",
    "Input: intervals = [[1,4],[4,5]]\n",
    "Output: [[1,5]]\n",
    "Explanation: Intervals [1,4] and [4,5] are considered overlapping."
   ]
  },
  {
   "cell_type": "code",
   "execution_count": null,
   "metadata": {},
   "outputs": [],
   "source": [
    "class Solution(object):\n",
    "    def merge(self, intervals):\n",
    "        \"\"\"\n",
    "        :type intervals: List[List[int]]\n",
    "        :rtype: List[List[int]]\n",
    "        \"\"\"\n",
    "        # pay attention to how to sort a nested list\n",
    "        intervals.sort(key = lambda i: i[0])\n",
    "        output = [intervals[0]]\n",
    "        \n",
    "        for start, end in intervals[1:]:\n",
    "            lastEnd = output[-1][1]\n",
    "            \n",
    "            if start <= lastEnd:\n",
    "                output[-1][1] = max(output[-1][1], end)\n",
    "            else:\n",
    "                output.append([start,end])\n",
    "            \n",
    "        return output"
   ]
  },
  {
   "cell_type": "code",
   "execution_count": 9,
   "metadata": {},
   "outputs": [
    {
     "name": "stdout",
     "output_type": "stream",
     "text": [
      "3\n"
     ]
    }
   ],
   "source": [
    "# from leetcode\n",
    "class Solution:\n",
    "    def overlap(self, a, b):\n",
    "        return a[0] <= b[1] and b[0] <= a[1]\n",
    "\n",
    "    # generate graph where there is an undirected edge between intervals u\n",
    "    # and v iff u and v overlap.\n",
    "    def buildGraph(self, intervals):\n",
    "        graph = collections.defaultdict(list)\n",
    "\n",
    "        for i, interval_i in enumerate(intervals):\n",
    "            for j in range(i+1, len(intervals)):\n",
    "                if self.overlap(interval_i, intervals[j]):\n",
    "                    graph[tuple(interval_i)].append(intervals[j])\n",
    "                    graph[tuple(intervals[j])].append(interval_i)\n",
    "\n",
    "        return graph\n",
    "\n",
    "    # merges all of the nodes in this connected component into one interval.\n",
    "    def mergeNodes(self, nodes):\n",
    "        min_start = min(node[0] for node in nodes)\n",
    "        max_end = max(node[1] for node in nodes)\n",
    "        return [min_start, max_end]\n",
    "\n",
    "    # gets the connected components of the interval overlap graph.\n",
    "    def getComponents(self, graph, intervals):\n",
    "        visited = set()\n",
    "        comp_number = 0\n",
    "        nodes_in_comp = collections.defaultdict(list)\n",
    "\n",
    "        def markComponentDFS(start):\n",
    "            stack = [start]\n",
    "            while stack:\n",
    "                node = tuple(stack.pop())\n",
    "                if node not in visited:\n",
    "                    visited.add(node)\n",
    "                    nodes_in_comp[comp_number].append(node)\n",
    "                    stack.extend(graph[node])\n",
    "\n",
    "        # mark all nodes in the same connected component with the same integer.\n",
    "        for interval in intervals:\n",
    "            if tuple(interval) not in visited:\n",
    "                markComponentDFS(interval)\n",
    "                comp_number += 1\n",
    "\n",
    "        return nodes_in_comp, comp_number\n",
    "\n",
    "\n",
    "    def merge(self, intervals: List[List[int]]) -> List[List[int]]:\n",
    "        graph = self.buildGraph(intervals)\n",
    "        nodes_in_comp, number_of_comps = self.getComponents(graph, intervals)\n",
    "\n",
    "        # all intervals in each connected component must be merged.\n",
    "        return [self.mergeNodes(nodes_in_comp[comp]) for comp in range(number_of_comps)]\n"
   ]
  },
  {
   "cell_type": "markdown",
   "metadata": {},
   "source": [
    "Approach 2: Sorting\n",
    "Intuition\n",
    "\n",
    "If we sort the intervals by their start value, then each set of intervals that can be merged will appear as a contiguous \"run\" in the sorted list.\n",
    "\n",
    "Algorithm\n",
    "\n",
    "First, we sort the list as described. Then, we insert the first interval into our merged list and continue considering each interval in turn as follows: If the current interval begins after the previous interval ends, then they do not overlap and we can append the current interval to merged. Otherwise, they do overlap, and we merge them by updating the end of the previous interval if it is less than the end of the current interval.\n",
    "\n",
    "A simple proof by contradiction shows that this algorithm always produces the correct answer. First, suppose that the algorithm at some point fails to merge two intervals that should be merged. This would imply that there exists some triple of indices ii, jj, and kk in a list of intervals \\text{ints}ints such that i < j < ki<j<k and (\\text{ints[i]}ints[i], \\text{ints[k]}ints[k]) can be merged, but neither (\\text{ints[i]}ints[i], \\text{ints[j]}ints[j]) nor (\\text{ints[j]}ints[j], \\text{ints[k]}ints[k]) can be merged. From this scenario follow several inequalities:\n",
    "\n",
    "\\begin{aligned} \\text{ints[i].end} < \\text{ints[j].start} \\\\ \\text{ints[j].end} < \\text{ints[k].start} \\\\ \\text{ints[i].end} \\geq \\text{ints[k].start} \\\\ \\end{aligned} \n",
    "ints[i].end<ints[j].start\n",
    "ints[j].end<ints[k].start\n",
    "ints[i].end≥ints[k].start\n",
    "​\n",
    " \n",
    "\n",
    "We can chain these inequalities (along with the following inequality, implied by the well-formedness of the intervals: \\text{ints[j].start} \\leq \\text{ints[j].end}ints[j].start≤ints[j].end) to demonstrate a contradiction:\n",
    "\n",
    "\\begin{aligned} \\text{ints[i].end} < \\text{ints[j].start} \\leq \\text{ints[j].end} < \\text{ints[k].start} \\\\ \\text{ints[i].end} \\geq \\text{ints[k].start} \\end{aligned} \n",
    "ints[i].end<ints[j].start≤ints[j].end<ints[k].start\n",
    "ints[i].end≥ints[k].start\n",
    "​\n",
    " \n",
    "\n",
    "Therefore, all mergeable intervals must occur in a contiguous run of the sorted list."
   ]
  },
  {
   "cell_type": "code",
   "execution_count": null,
   "metadata": {},
   "outputs": [],
   "source": [
    "class Solution:\n",
    "    def merge(self, intervals: List[List[int]]) -> List[List[int]]:\n",
    "\n",
    "        intervals.sort(key=lambda x: x[0])\n",
    "\n",
    "        merged = []\n",
    "        for interval in intervals:\n",
    "            # if the list of merged intervals is empty or if the current\n",
    "            # interval does not overlap with the previous, simply append it.\n",
    "            if not merged or merged[-1][1] < interval[0]:\n",
    "                merged.append(interval)\n",
    "            else:\n",
    "            # otherwise, there is overlap, so we merge the current and previous\n",
    "            # intervals.\n",
    "                merged[-1][1] = max(merged[-1][1], interval[1])\n",
    "\n",
    "        return merged"
   ]
  },
  {
   "cell_type": "code",
   "execution_count": null,
   "metadata": {},
   "outputs": [],
   "source": []
  },
  {
   "cell_type": "code",
   "execution_count": null,
   "metadata": {},
   "outputs": [],
   "source": []
  },
  {
   "cell_type": "code",
   "execution_count": null,
   "metadata": {},
   "outputs": [],
   "source": []
  },
  {
   "cell_type": "code",
   "execution_count": null,
   "metadata": {},
   "outputs": [],
   "source": []
  },
  {
   "cell_type": "code",
   "execution_count": null,
   "metadata": {},
   "outputs": [],
   "source": []
  }
 ],
 "metadata": {
  "kernelspec": {
   "display_name": "Python 3",
   "language": "python",
   "name": "python3"
  },
  "language_info": {
   "codemirror_mode": {
    "name": "ipython",
    "version": 3
   },
   "file_extension": ".py",
   "mimetype": "text/x-python",
   "name": "python",
   "nbconvert_exporter": "python",
   "pygments_lexer": "ipython3",
   "version": "3.7.3"
  },
  "toc": {
   "base_numbering": 1,
   "nav_menu": {},
   "number_sections": true,
   "sideBar": true,
   "skip_h1_title": false,
   "title_cell": "Table of Contents",
   "title_sidebar": "Contents",
   "toc_cell": false,
   "toc_position": {},
   "toc_section_display": true,
   "toc_window_display": false
  }
 },
 "nbformat": 4,
 "nbformat_minor": 4
}
