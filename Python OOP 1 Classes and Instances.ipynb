{
 "cells": [
  {
   "cell_type": "markdown",
   "id": "7a1d58e9",
   "metadata": {},
   "source": [
    "# OOP Object Oriented Programming\n",
    "\n",
    "- Attributre(height, age, weight): variables\n",
    "- Behaviour (do something)\n",
    "- Methods (function)\n",
    "- (Object, class, encapsulation, abstraction, polymophism)\n",
    "\n"
   ]
  },
  {
   "cell_type": "markdown",
   "id": "76a092d9",
   "metadata": {},
   "source": [
    "### Object(instance) and class(design)\n",
    "\n",
    "class: design or blueprint to create object ( the design of the object) "
   ]
  },
  {
   "cell_type": "code",
   "execution_count": 1,
   "id": "571c0b24",
   "metadata": {},
   "outputs": [
    {
     "name": "stdout",
     "output_type": "stream",
     "text": [
      "<class '__main__.Computer'>\n"
     ]
    }
   ],
   "source": [
    "class Computer:\n",
    "    def config(self):\n",
    "        print(\"i5, 16gb, 1TB\")\n",
    "\n",
    "com1 = Computer()\n",
    "print(type(com1))\n",
    "    "
   ]
  },
  {
   "cell_type": "code",
   "execution_count": 3,
   "id": "23161187",
   "metadata": {},
   "outputs": [
    {
     "name": "stdout",
     "output_type": "stream",
     "text": [
      "i5, 16gb, 1TB\n"
     ]
    }
   ],
   "source": [
    "Computer.config(com1)"
   ]
  },
  {
   "cell_type": "code",
   "execution_count": null,
   "id": "38c3bdb4",
   "metadata": {},
   "outputs": [],
   "source": []
  }
 ],
 "metadata": {
  "kernelspec": {
   "display_name": "Python 3",
   "language": "python",
   "name": "python3"
  },
  "language_info": {
   "codemirror_mode": {
    "name": "ipython",
    "version": 3
   },
   "file_extension": ".py",
   "mimetype": "text/x-python",
   "name": "python",
   "nbconvert_exporter": "python",
   "pygments_lexer": "ipython3",
   "version": "3.8.8"
  }
 },
 "nbformat": 4,
 "nbformat_minor": 5
}
