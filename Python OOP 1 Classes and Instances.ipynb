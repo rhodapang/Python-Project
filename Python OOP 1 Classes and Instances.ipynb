{
 "cells": [
  {
   "cell_type": "markdown",
   "id": "c677ab10",
   "metadata": {},
   "source": [
    "# OOP Object Oriented Programming\n",
    "\n",
    "- Attributre(height, age, weight): variables\n",
    "- Behaviour (do something)\n",
    "- Methods (function)\n",
    "- (Object, class, encapsulation, abstraction, polymophism)\n",
    "\n"
   ]
  },
  {
   "cell_type": "markdown",
   "id": "ad9e2484",
   "metadata": {},
   "source": [
    "### Object(instance) and class(design)\n",
    "\n",
    "class: design or blueprint to create object ( the design of the object) "
   ]
  },
  {
   "cell_type": "code",
   "execution_count": 1,
   "id": "9b9b66a9",
   "metadata": {},
   "outputs": [
    {
     "name": "stdout",
     "output_type": "stream",
     "text": [
      "<class '__main__.Computer'>\n"
     ]
    }
   ],
   "source": [
    "class Computer:\n",
    "    def config(self):\n",
    "        print(\"i5, 16gb, 1TB\")\n",
    "\n",
    "com1 = Computer()\n",
    "print(type(com1))\n",
    "    "
   ]
  },
  {
   "cell_type": "code",
   "execution_count": null,
   "id": "3b07c1d7",
   "metadata": {},
   "outputs": [],
   "source": []
  }
 ],
 "metadata": {
  "kernelspec": {
   "display_name": "Python 3",
   "language": "python",
   "name": "python3"
  },
  "language_info": {
   "codemirror_mode": {
    "name": "ipython",
    "version": 3
   },
   "file_extension": ".py",
   "mimetype": "text/x-python",
   "name": "python",
   "nbconvert_exporter": "python",
   "pygments_lexer": "ipython3",
   "version": "3.8.8"
  }
 },
 "nbformat": 4,
 "nbformat_minor": 5
}
