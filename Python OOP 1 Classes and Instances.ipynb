{
 "cells": [
  {
   "cell_type": "markdown",
   "id": "af1f5719",
   "metadata": {},
   "source": [
    "# OOP Object Oriented Programming\n",
    "\n",
    "- Attributre(height, age, weight)\n",
    "- Behaviour (do something)\n",
    "- Methods\n",
    "- (Object, class, encapsulation, abstraction, polymophism)\n",
    "\n"
   ]
  },
  {
   "cell_type": "markdown",
   "id": "d859f113",
   "metadata": {},
   "source": [
    "### Object(instance) and class(design)\n",
    "\n",
    "class: design or blueprint to create object ( the design of the object) "
   ]
  },
  {
   "cell_type": "code",
   "execution_count": null,
   "id": "c575f3d0",
   "metadata": {},
   "outputs": [],
   "source": []
  }
 ],
 "metadata": {
  "kernelspec": {
   "display_name": "Python 3",
   "language": "python",
   "name": "python3"
  },
  "language_info": {
   "codemirror_mode": {
    "name": "ipython",
    "version": 3
   },
   "file_extension": ".py",
   "mimetype": "text/x-python",
   "name": "python",
   "nbconvert_exporter": "python",
   "pygments_lexer": "ipython3",
   "version": "3.8.8"
  }
 },
 "nbformat": 4,
 "nbformat_minor": 5
}
